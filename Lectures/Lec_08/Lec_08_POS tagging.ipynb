{
 "cells": [
  {
   "cell_type": "markdown",
   "metadata": {},
   "source": [
    "# What is Part-of-Speech tag?\n",
    "\n",
    "- Part-of-Speech: \n",
    "    - grammatical / lexical category of a word\n",
    "        - Verb, Noun, Adjective, Adverb, Article, etc.\n",
    "\n",
    "- POS tagging:\n",
    "    - tag each word with an appropriate POS tag within a context\n",
    "    - POS gives information about the word itself and its neighbors\n",
    "    - \"book a ticket\", book: verb\n",
    "    - \"book of the century\", book: noun\n",
    "    - disambiguate the meaning without parsing\n",
    "    \n",
    "<br>\n",
    "\n",
    "- Why do we need Part-of-Speech tag?\n",
    "    - NLP pipeline: \n",
    "        - tokenization\n",
    "        - tagging\n",
    "    - intermediate step for higher-level NLP tasks:\n",
    "        - grammar analysis\n",
    "        - spell-checking\n",
    "        - information retrieval\n",
    "        - information extraction\n",
    "        - parsing \n",
    "        - semantics analysis \n",
    "        - translation\n",
    "        - linguistic research for corpora\n",
    "        - Text to Speech (TTS) applications\n",
    "        - grammarly\n",
    "        - disambiguiation\n",
    "    "
   ]
  },
  {
   "cell_type": "markdown",
   "metadata": {},
   "source": [
    "<img src=\"./outline.png\" width=\"400\" align=\"left\">"
   ]
  },
  {
   "cell_type": "markdown",
   "metadata": {},
   "source": [
    "## Tagset\n",
    "    - the collection of POS tags\n",
    "    - typically language specific\n",
    "    - may be more or less granular\n",
    "    - not all NLTK corpora employ the same tagset"
   ]
  },
  {
   "cell_type": "markdown",
   "metadata": {},
   "source": [
    "<img src=\"./tagset.png\" width=\"600\" align=\"left\">"
   ]
  },
  {
   "cell_type": "markdown",
   "metadata": {},
   "source": [
    "- Universal POS tagset:\n",
    "\n",
    "<img src=\"./Universal_tagset.png\" width=\"600\" align=\"left\">"
   ]
  },
  {
   "cell_type": "markdown",
   "metadata": {},
   "source": [
    "- BNC POS tagset:\n",
    "  \n",
    "<img src=\"./BNC_tagset1.png\" width=\"800\" align=\"left\">\n"
   ]
  },
  {
   "cell_type": "markdown",
   "metadata": {},
   "source": [
    "<img src=\"./BNC_tagset2.png\" width=\"800\" align=\"left\">"
   ]
  },
  {
   "cell_type": "markdown",
   "metadata": {},
   "source": [
    "## Explore NLTK tagged corpora"
   ]
  },
  {
   "cell_type": "code",
   "execution_count": 1,
   "metadata": {},
   "outputs": [],
   "source": [
    "import nltk\n",
    "nltk.data.path.append(\"/data/3/zwang/nltk_data\") # setting environment variable to your path\n",
    "\n",
    "# show the plot in file\n",
    "from matplotlib import pyplot as plt\n",
    "plt.style.use('default')"
   ]
  },
  {
   "cell_type": "markdown",
   "metadata": {},
   "source": [
    "Not all NLTK corpora employ the same tagset"
   ]
  },
  {
   "cell_type": "code",
   "execution_count": 2,
   "metadata": {},
   "outputs": [
    {
     "data": {
      "text/plain": [
       "[('now', 'RB'), ('im', 'PRP'), ('left', 'VBD'), ...]"
      ]
     },
     "execution_count": 2,
     "metadata": {},
     "output_type": "execute_result"
    }
   ],
   "source": [
    "nltk.corpus.nps_chat.tagged_words()"
   ]
  },
  {
   "cell_type": "code",
   "execution_count": 3,
   "metadata": {},
   "outputs": [
    {
     "data": {
      "text/plain": [
       "[('now', 'ADV'), ('im', 'PRON'), ('left', 'VERB'), ...]"
      ]
     },
     "execution_count": 3,
     "metadata": {},
     "output_type": "execute_result"
    }
   ],
   "source": [
    "nltk.corpus.nps_chat.tagged_words(tagset = 'universal')"
   ]
  },
  {
   "cell_type": "markdown",
   "metadata": {},
   "source": [
    "Explore the tagged brown corpora"
   ]
  },
  {
   "cell_type": "code",
   "execution_count": 4,
   "metadata": {},
   "outputs": [
    {
     "data": {
      "text/plain": [
       "[('NOUN', 30654),\n",
       " ('VERB', 14399),\n",
       " ('ADP', 12355),\n",
       " ('.', 11928),\n",
       " ('DET', 11389),\n",
       " ('ADJ', 6706),\n",
       " ('ADV', 3349),\n",
       " ('CONJ', 2717),\n",
       " ('PRON', 2535),\n",
       " ('PRT', 2264),\n",
       " ('NUM', 2166),\n",
       " ('X', 92)]"
      ]
     },
     "execution_count": 4,
     "metadata": {},
     "output_type": "execute_result"
    }
   ],
   "source": [
    "from nltk.corpus import brown\n",
    "brown_news_tagged = brown.tagged_words(categories='news', tagset='universal')\n",
    "tag_fd = nltk.FreqDist(tag for (word, tag) in brown_news_tagged)\n",
    "tag_fd.most_common() # the most common POS tags for the news category of brown corpora"
   ]
  },
  {
   "cell_type": "code",
   "execution_count": 5,
   "metadata": {},
   "outputs": [
    {
     "data": {
      "image/png": "[encoded data removed]",
      "text/plain": [
       "<Figure size 432x288 with 1 Axes>"
      ]
     },
     "metadata": {
      "needs_background": "light"
     },
     "output_type": "display_data"
    }
   ],
   "source": [
    "# top-5 most commonly used tags almost cover 80% of the words' POS tags\n",
    "tag_fd.plot(cumulative=True)"
   ]
  },
  {
   "cell_type": "markdown",
   "metadata": {},
   "source": [
    "Check POS tag for a given word"
   ]
  },
  {
   "cell_type": "code",
   "execution_count": 10,
   "metadata": {},
   "outputs": [],
   "source": [
    "word_tag_pairs = nltk.corpus.treebank.tagged_words(tagset='universal')\n",
    "conditional_fd = nltk.ConditionalFreqDist(word_tag_pairs)"
   ]
  },
  {
   "cell_type": "code",
   "execution_count": 11,
   "metadata": {},
   "outputs": [
    {
     "data": {
      "text/plain": [
       "[('NOUN', 7), ('VERB', 1)]"
      ]
     },
     "execution_count": 11,
     "metadata": {},
     "output_type": "execute_result"
    }
   ],
   "source": [
    "conditional_fd['book'].most_common()"
   ]
  },
  {
   "cell_type": "markdown",
   "metadata": {},
   "source": [
    "Find words with specific POS tags"
   ]
  },
  {
   "cell_type": "code",
   "execution_count": 12,
   "metadata": {},
   "outputs": [],
   "source": [
    "word_tag_pairs = nltk.corpus.treebank.tagged_words(tagset='universal')\n",
    "conditional_fd = nltk.ConditionalFreqDist((tag, word) for (word, tag) in word_tag_pairs)"
   ]
  },
  {
   "cell_type": "code",
   "execution_count": 13,
   "metadata": {},
   "outputs": [
    {
     "data": {
      "text/plain": [
       "FreqDist({'%': 445, 'Mr.': 375, 'company': 260, 'U.S.': 220, 'year': 212, 'market': 176, 'New': 159, 'trading': 144, 'stock': 136, 'president': 133, ...})"
      ]
     },
     "execution_count": 13,
     "metadata": {},
     "output_type": "execute_result"
    }
   ],
   "source": [
    "conditional_fd['NOUN'] # VERB, ADJ, ADV"
   ]
  },
  {
   "cell_type": "markdown",
   "metadata": {},
   "source": [
    "Check ambiguous words (words with multiple POS tags)"
   ]
  },
  {
   "cell_type": "code",
   "execution_count": 14,
   "metadata": {},
   "outputs": [
    {
     "name": "stdout",
     "output_type": "stream",
     "text": [
      "best ADJ ADV VERB NOUN\n",
      "close ADV ADJ VERB NOUN\n",
      "open ADJ VERB NOUN ADV\n",
      "present ADJ ADV NOUN VERB\n",
      "that ADP DET PRON ADV\n"
     ]
    }
   ],
   "source": [
    "brown_news_tagged = brown.tagged_words(categories='news', tagset='universal')\n",
    "word_tags = nltk.ConditionalFreqDist((word.lower(), tag) for (word, tag) in brown_news_tagged)\n",
    "for word in sorted(word_tags.conditions()):\n",
    "    if len(word_tags[word]) > 3: # words that have more than 3 tags\n",
    "        tags = [tag for (tag, _) in word_tags[word].most_common()]\n",
    "        print(word, ' '.join(tags))"
   ]
  },
  {
   "cell_type": "markdown",
   "metadata": {},
   "source": [
    "## POS tagging example\n",
    "- **Goal**: assign the correct POS tag to each word in a text\n",
    "- Processes a sequence of words (i.e., context), and attaches a POS tag to each word\n",
    "\n",
    "<img src=\"./POS_eg.png\" width=\"400\" align=\"left\"> "
   ]
  },
  {
   "cell_type": "code",
   "execution_count": 15,
   "metadata": {},
   "outputs": [
    {
     "data": {
      "text/plain": [
       "[('There', 'EX'),\n",
       " ('are', 'VBP'),\n",
       " ('20', 'CD'),\n",
       " ('participants', 'NNS'),\n",
       " ('in', 'IN'),\n",
       " ('our', 'PRP$'),\n",
       " ('NLP', 'NNP'),\n",
       " ('class', 'NN'),\n",
       " ('.', '.')]"
      ]
     },
     "execution_count": 15,
     "metadata": {},
     "output_type": "execute_result"
    }
   ],
   "source": [
    "from nltk import word_tokenize\n",
    "text = word_tokenize(\"There are 20 participants in our NLP class.\") \n",
    "nltk.pos_tag(text)"
   ]
  },
  {
   "cell_type": "code",
   "execution_count": 18,
   "metadata": {},
   "outputs": [
    {
     "name": "stdout",
     "output_type": "stream",
     "text": [
      "EX: existential there\n",
      "    there\n"
     ]
    }
   ],
   "source": [
    "# https://cs.nyu.edu/grishman/jet/guide/PennPOS.html\n",
    "nltk.help.upenn_tagset('EX')"
   ]
  },
  {
   "cell_type": "code",
   "execution_count": 17,
   "metadata": {},
   "outputs": [
    {
     "name": "stdout",
     "output_type": "stream",
     "text": [
      "NN: noun, common, singular or mass\n",
      "    common-carrier cabbage knuckle-duster Casino afghan shed thermostat\n",
      "    investment slide humour falloff slick wind hyena override subhumanity\n",
      "    machinist ...\n",
      "NNP: noun, proper, singular\n",
      "    Motown Venneboerger Czestochwa Ranzer Conchita Trumplane Christos\n",
      "    Oceanside Escobar Kreisler Sawyer Cougar Yvette Ervin ODI Darryl CTCA\n",
      "    Shannon A.K.C. Meltex Liverpool ...\n",
      "NNPS: noun, proper, plural\n",
      "    Americans Americas Amharas Amityvilles Amusements Anarcho-Syndicalists\n",
      "    Andalusians Andes Andruses Angels Animals Anthony Antilles Antiques\n",
      "    Apache Apaches Apocrypha ...\n",
      "NNS: noun, common, plural\n",
      "    undergraduates scotches bric-a-brac products bodyguards facets coasts\n",
      "    divestitures storehouses designs clubs fragrances averages\n",
      "    subjectivists apprehensions muses factory-jobs ...\n"
     ]
    }
   ],
   "source": [
    "nltk.help.upenn_tagset('NN.*')"
   ]
  },
  {
   "cell_type": "markdown",
   "metadata": {},
   "source": [
    "## POS tagging techniques\n",
    "- human annotation (time-consusming, laborious)\n",
    "    - annotate a small corpus of training data\n",
    "- automatic algorithms\n",
    "    - learn from pre-tagged corpora\n",
    "\n",
    "<br>\n",
    "\n",
    "- Techniques for automatic Part-of-Speech tagging:\n",
    "    - Rule-based: apply handwritten rules and use contextual information to assign POS tags to words. \n",
    "        - e.g., If a word ends with 'ing' and is preceded by a Verb, label it as a Verb\n",
    "            - \"He likes eating pizza\"\n",
    "            - likes: VBZ, 3rd person singular present Verb\n",
    "            - eating: VBG, gerund or present participle Verb\n",
    "        - Regular Expression Tagger\n",
    "    \n",
    "    <br>\n",
    "        \n",
    "    - Transformation-based: \n",
    "        - applies pre-defined rules as well as rules automatically induced during training\n",
    "        - Brill tagger\n",
    "    \n",
    "    <br>\n",
    "    \n",
    "    - Probabilistic tagging: \n",
    "        - frequency, probability, or statistics \n",
    "        - find out the most frequently used tag for a specific word in the annotated training data and uses this information to tag that word in the unannotated text\n",
    "            - Default Tagger\n",
    "            - UnigramTagger\n",
    "        - Valid sequence of tags according to grammar rules\n",
    "            - assign the sequence of POS tags that have the highest probability\n",
    "            - Hidden Markov Models (HMMs)\n",
    "     \n",
    "    <br>\n",
    "           \n",
    "    - Deep learning models: \n",
    "        - Meta-BiLSTM \n",
    "        - impressive accuracy\n"
   ]
  },
  {
   "cell_type": "markdown",
   "metadata": {},
   "source": [
    "# Automatic Tagging\n",
    "- the tag of a word depends on the word and its context within a sentence\n",
    "- working with data at the level of (tagged) sentences rather than words"
   ]
  },
  {
   "cell_type": "markdown",
   "metadata": {},
   "source": [
    "## Rule-based tagger: Regular Expression Tagger\n",
    "- apply handwritten rules and use contextual information to assign POS tags to words\n",
    "- assigns tags based on pre-defined matching patterns\n",
    "    - word ending in ed is the past participle of a verb\n",
    "    - word ending with 's is a possessive noun\n",
    "\n",
    "<br><br>"
   ]
  },
  {
   "cell_type": "code",
   "execution_count": 19,
   "metadata": {},
   "outputs": [],
   "source": [
    "patterns = [\n",
    "            (r'.*ing$', 'VBG'),                # gerunds: a noun formed from a verb which refers to an action        \n",
    "            (r'.*ed$', 'VBD'),                 # simple past\n",
    "            (r'.*es$', 'VBZ'),                 # 3rd singular present\n",
    "            (r'.*ould$', 'MD'),                # modals\n",
    "            (r'.*\\'s$', 'NN$'),                # possessive nouns\n",
    "            (r'.*s$', 'NNS'),                  # plural nouns        \n",
    "            (r'^-?[0-9]+(\\.[0-9]+)?$', 'CD'),  # cardinal numbers\n",
    "            (r'.*', 'NN'),                      # nouns (default): catch-all, tags everything as a noun\n",
    "            ]"
   ]
  },
  {
   "cell_type": "markdown",
   "metadata": {},
   "source": [
    "The patterns are processed in order, and the first one that matches is applied."
   ]
  },
  {
   "cell_type": "code",
   "execution_count": 23,
   "metadata": {},
   "outputs": [
    {
     "name": "stdout",
     "output_type": "stream",
     "text": [
      "[('``', 'NN'), ('Only', 'NN'), ('a', 'NN'), ('relative', 'NN'), ('handful', 'NN'), ('of', 'NN'), ('such', 'NN'), ('reports', 'NNS'), ('was', 'NNS'), ('received', 'VBD'), (\"''\", 'NN'), (',', 'NN'), ('the', 'NN'), ('jury', 'NN'), ('said', 'NN'), (',', 'NN'), ('``', 'NN'), ('considering', 'VBG'), ('the', 'NN'), ('widespread', 'NN'), ('interest', 'NN'), ('in', 'NN'), ('the', 'NN'), ('election', 'NN'), (',', 'NN'), ('the', 'NN'), ('number', 'NN'), ('of', 'NN'), ('voters', 'NNS'), ('and', 'NN'), ('the', 'NN'), ('size', 'NN'), ('of', 'NN'), ('this', 'NNS'), ('city', 'NN'), (\"''\", 'NN'), ('.', 'NN')]\n"
     ]
    }
   ],
   "source": [
    "from nltk.corpus import brown\n",
    "brown_sents = brown.sents(categories='news')\n",
    "brown_tagged_sents = brown.tagged_sents(categories='news')\n",
    "\n",
    "regexp_tagger = nltk.RegexpTagger(patterns)\n",
    "print(regexp_tagger.tag(brown_sents[3]))"
   ]
  },
  {
   "cell_type": "code",
   "execution_count": 24,
   "metadata": {},
   "outputs": [
    {
     "data": {
      "text/plain": [
       "0.20186168625812995"
      ]
     },
     "execution_count": 24,
     "metadata": {},
     "output_type": "execute_result"
    }
   ],
   "source": [
    "# evaluate the performance of the tagger, compare to human experts tagged brown corpora(accuracy)\n",
    "regexp_tagger.evaluate(brown_tagged_sents)"
   ]
  },
  {
   "cell_type": "markdown",
   "metadata": {},
   "source": [
    "## Probabilistic tagging:\n",
    "- frequency, probability, or statistics\n",
    "\n",
    "       \n",
    "- **steps**:\n",
    "    1. collect data for tagged corpus\n",
    "    2. train a tagger: creat a lookup table to store the most frequent tag for each word\n",
    "    3. tag new sentences: not seen in the training data\n",
    "    4. evaluation: tags assigned by human expert as gold standard <br>\n",
    "    \n",
    "\n",
    "- taggers:\n",
    "    - The Default Tagger\n",
    "    - The N-gram Taggers\n",
    "\n",
    "<br>\n"
   ]
  },
  {
   "cell_type": "markdown",
   "metadata": {},
   "source": [
    "### Creating lookup table\n",
    "- count the words and tags from a pre-tagged corpus"
   ]
  },
  {
   "cell_type": "code",
   "execution_count": 25,
   "metadata": {},
   "outputs": [
    {
     "name": "stdout",
     "output_type": "stream",
     "text": [
      "[[('The', 'AT'), ('Fulton', 'NP-TL'), ('County', 'NN-TL'), ('Grand', 'JJ-TL'), ('Jury', 'NN-TL'), ('said', 'VBD'), ('Friday', 'NR'), ('an', 'AT'), ('investigation', 'NN'), ('of', 'IN'), (\"Atlanta's\", 'NP$'), ('recent', 'JJ'), ('primary', 'NN'), ('election', 'NN'), ('produced', 'VBD'), ('``', '``'), ('no', 'AT'), ('evidence', 'NN'), (\"''\", \"''\"), ('that', 'CS'), ('any', 'DTI'), ('irregularities', 'NNS'), ('took', 'VBD'), ('place', 'NN'), ('.', '.')], [('The', 'AT'), ('jury', 'NN'), ('further', 'RBR'), ('said', 'VBD'), ('in', 'IN'), ('term-end', 'NN'), ('presentments', 'NNS'), ('that', 'CS'), ('the', 'AT'), ('City', 'NN-TL'), ('Executive', 'JJ-TL'), ('Committee', 'NN-TL'), (',', ','), ('which', 'WDT'), ('had', 'HVD'), ('over-all', 'JJ'), ('charge', 'NN'), ('of', 'IN'), ('the', 'AT'), ('election', 'NN'), (',', ','), ('``', '``'), ('deserves', 'VBZ'), ('the', 'AT'), ('praise', 'NN'), ('and', 'CC'), ('thanks', 'NNS'), ('of', 'IN'), ('the', 'AT'), ('City', 'NN-TL'), ('of', 'IN-TL'), ('Atlanta', 'NP-TL'), (\"''\", \"''\"), ('for', 'IN'), ('the', 'AT'), ('manner', 'NN'), ('in', 'IN'), ('which', 'WDT'), ('the', 'AT'), ('election', 'NN'), ('was', 'BEDZ'), ('conducted', 'VBN'), ('.', '.')], ...]\n"
     ]
    }
   ],
   "source": [
    "# a pre-tagged corpus\n",
    "print(brown_tagged_sents[:])"
   ]
  },
  {
   "cell_type": "markdown",
   "metadata": {},
   "source": [
    "<img src=\"./lookup_table.png\" width=\"400\" align=\"left\"> "
   ]
  },
  {
   "cell_type": "markdown",
   "metadata": {},
   "source": [
    "### The Default Tagger\n",
    "- tag all words with the most likely tag\n",
    "    - e.g., \"Noun\" in the lookup table\n",
    "- assigns the same tag to each token"
   ]
  },
  {
   "cell_type": "code",
   "execution_count": 26,
   "metadata": {},
   "outputs": [
    {
     "data": {
      "text/plain": [
       "'NN'"
      ]
     },
     "execution_count": 26,
     "metadata": {},
     "output_type": "execute_result"
    }
   ],
   "source": [
    "# the most frequent tag for the news category of brown corpus\n",
    "tags = [tag for (word, tag) in brown.tagged_words(categories='news')]\n",
    "nltk.FreqDist(tags).max()"
   ]
  },
  {
   "cell_type": "code",
   "execution_count": 27,
   "metadata": {},
   "outputs": [
    {
     "name": "stdout",
     "output_type": "stream",
     "text": [
      "[('I', 'NN'), ('do', 'NN'), ('not', 'NN'), ('like', 'NN'), ('green', 'NN'), ('eggs', 'NN'), ('and', 'NN'), ('ham', 'NN'), (',', 'NN'), ('I', 'NN'), ('do', 'NN'), ('not', 'NN'), ('like', 'NN'), ('them', 'NN'), ('Sam', 'NN'), ('I', 'NN'), ('am', 'NN'), ('!', 'NN')]\n"
     ]
    }
   ],
   "source": [
    "# apply DefaultTagger to creates a tagger that tags every word as NN\n",
    "text = 'I do not like green eggs and ham, I do not like them Sam I am!'\n",
    "tokens = nltk.word_tokenize(text)\n",
    "default_tagger = nltk.DefaultTagger('NN')\n",
    "print(default_tagger.tag(tokens))"
   ]
  },
  {
   "cell_type": "code",
   "execution_count": 28,
   "metadata": {},
   "outputs": [
    {
     "data": {
      "text/plain": [
       "0.13089484257215028"
      ]
     },
     "execution_count": 28,
     "metadata": {},
     "output_type": "execute_result"
    }
   ],
   "source": [
    "# evaluate the performance of default tagger, compare to human experts tagged brown corpora(accuracy)\n",
    "default_tagger.evaluate(brown_tagged_sents) \n",
    "# only about an eighth of the tokens are tagged correctly"
   ]
  },
  {
   "cell_type": "markdown",
   "metadata": {},
   "source": [
    "### The Lookup Tagger\n",
    "- High-frequency words and their most likely tags\n",
    "    - game: noun\n",
    "    - old: adj\n",
    "    - record: verb\n"
   ]
  },
  {
   "cell_type": "markdown",
   "metadata": {},
   "source": [
    "<img src=\"./lookup_table.png\" width=\"400\" align=\"left\"> "
   ]
  },
  {
   "cell_type": "code",
   "execution_count": 29,
   "metadata": {},
   "outputs": [],
   "source": [
    "fd = nltk.FreqDist(brown.words(categories='news')) # dict[word]=frequency\n",
    "conditional_fd = nltk.ConditionalFreqDist(brown.tagged_words(categories='news')) # dict of dict: dict[word] = {dict{tag}=freq}\n",
    "most_freq_words = fd.most_common(100) # list of (word, frequency)\n",
    "most_freq_wordtags = dict((word, conditional_fd[word].max()) for (word, freq) in most_freq_words)"
   ]
  },
  {
   "cell_type": "code",
   "execution_count": 32,
   "metadata": {},
   "outputs": [
    {
     "data": {
      "text/plain": [
       "FreqDist({'AT': 5558, 'AT-TL': 18, 'AT-HL': 4})"
      ]
     },
     "execution_count": 32,
     "metadata": {},
     "output_type": "execute_result"
    }
   ],
   "source": [
    "conditional_fd['the']"
   ]
  },
  {
   "cell_type": "code",
   "execution_count": 33,
   "metadata": {},
   "outputs": [
    {
     "data": {
      "text/plain": [
       "'AT'"
      ]
     },
     "execution_count": 33,
     "metadata": {},
     "output_type": "execute_result"
    }
   ],
   "source": [
    "most_freq_wordtags['the'] # check the whole dict"
   ]
  },
  {
   "cell_type": "code",
   "execution_count": 34,
   "metadata": {},
   "outputs": [
    {
     "data": {
      "text/plain": [
       "0.45578495136941344"
      ]
     },
     "execution_count": 34,
     "metadata": {},
     "output_type": "execute_result"
    }
   ],
   "source": [
    "# build the unigram tagger\n",
    "baseline_tagger = nltk.UnigramTagger(model=most_freq_wordtags)\n",
    "\n",
    "# evaluate the performance of the tagger\n",
    "baseline_tagger.evaluate(brown_tagged_sents)"
   ]
  },
  {
   "cell_type": "markdown",
   "metadata": {},
   "source": [
    "Knowing the tags for the 100 most frequent words enables us to tag a large fraction of tokens correctly"
   ]
  },
  {
   "cell_type": "code",
   "execution_count": 35,
   "metadata": {},
   "outputs": [
    {
     "name": "stdout",
     "output_type": "stream",
     "text": [
      "[('The', 'AT'), ('September-October', None), ('term', None), ('jury', None), ('had', 'HVD'), ('been', 'BEN'), ('charged', None), ('by', 'IN'), ('Fulton', None), ('Superior', None), ('Court', None), ('Judge', None), ('Durwood', None), ('Pye', None), ('to', 'TO'), ('investigate', None), ('reports', None), ('of', 'IN'), ('possible', None), ('``', '``'), ('irregularities', None), (\"''\", \"''\"), ('in', 'IN'), ('the', 'AT'), ('hard-fought', None), ('primary', None), ('which', 'WDT'), ('was', 'BEDZ'), ('won', None), ('by', 'IN'), ('Mayor-nominate', None), ('Ivan', None), ('Allen', None), ('Jr.', None), ('.', '.')]\n"
     ]
    }
   ],
   "source": [
    "# apply the tagger on new sentences\n",
    "sent = brown.sents(categories='news')[2]\n",
    "print(baseline_tagger.tag(sent))"
   ]
  },
  {
   "cell_type": "markdown",
   "metadata": {},
   "source": [
    "**words tagged as None**:\n",
    "- If words are not among the 100 most frequent words, unable to assign a tag, being assigned a tag of None\n",
    "    - Improve: assign the default tag of NN to these words\n",
    "    - backoff: invoke if the lookup tagger fails to assign tags"
   ]
  },
  {
   "cell_type": "code",
   "execution_count": 37,
   "metadata": {},
   "outputs": [],
   "source": [
    "baseline_tagger = nltk.UnigramTagger(model=most_freq_wordtags,backoff=nltk.DefaultTagger('NN'))"
   ]
  },
  {
   "cell_type": "markdown",
   "metadata": {},
   "source": [
    "Create a new tagger to **combine** the:\n",
    "- tagger using most frequent words' tags\n",
    "- backoff tagger"
   ]
  },
  {
   "cell_type": "code",
   "execution_count": 38,
   "metadata": {},
   "outputs": [],
   "source": [
    "def my_tagger(conditional_fd, freq_words):\n",
    "    \"\"\"\n",
    "    a self-defined tagger:\n",
    "        - a lookup table that records the topn most frequent words' most frequent tags\n",
    "        - if lookup tagger fails, invoke the \"backoff\" tagger: assign NN to every remaining words\n",
    "    \"\"\"\n",
    "    tagger_tb = dict((word, conditional_fd[word].max()) for word in freq_words) # most frequent words \n",
    "    combined_tagger = nltk.UnigramTagger(model=tagger_tb, backoff=nltk.DefaultTagger('NN'))\n",
    "    return combined_tagger.evaluate(brown.tagged_sents(categories='news'))\n",
    "\n",
    "def display():\n",
    "    \"\"\"\n",
    "    show a plot that:\n",
    "        - how does tagging performance change with different number of most common words' tags recorded in the lookup table\n",
    "    \"\"\"\n",
    "    import pylab\n",
    "    word_freqs = nltk.FreqDist(brown.words(categories='news')).most_common()\n",
    "    words_by_freq = [w for (w, f) in word_freqs] # list of words in frequency descending order\n",
    "    conditional_fd = nltk.ConditionalFreqDist(brown.tagged_words(categories='news'))\n",
    "    n_words = 2 ** pylab.arange(15) # exponential size\n",
    "    accuracy = [my_tagger(conditional_fd, words_by_freq[:n]) for n in n_words]\n",
    "    pylab.plot(n_words, accuracy, '-bo')\n",
    "    pylab.title('Tagger Performance with Varying Frequent Words')\n",
    "    pylab.xlabel('Number of most frequent words\\' tags')\n",
    "    pylab.ylabel('Accuracy')\n",
    "    pylab.show()"
   ]
  },
  {
   "cell_type": "code",
   "execution_count": 39,
   "metadata": {},
   "outputs": [
    {
     "data": {
      "image/png": "[encoded data removed]",
      "text/plain": [
       "<Figure size 432x288 with 1 Axes>"
      ]
     },
     "metadata": {
      "needs_background": "light"
     },
     "output_type": "display_data"
    }
   ],
   "source": [
    "display()     \n",
    "# Using top 2500 frequently used words' tags could acheive 80% accuracy for tagging the whole corpora"
   ]
  },
  {
   "cell_type": "markdown",
   "metadata": {},
   "source": [
    "## Evaluate Tagger performance\n",
    "- train a unigram tagger, use it to tag a sentence, then evaluate\n",
    "- idea: for each token, assign the most likely / frequent tag"
   ]
  },
  {
   "cell_type": "code",
   "execution_count": 40,
   "metadata": {},
   "outputs": [
    {
     "name": "stdout",
     "output_type": "stream",
     "text": [
      "[('Various', 'JJ'), ('of', 'IN'), ('the', 'AT'), ('apartments', 'NNS'), ('are', 'BER'), ('of', 'IN'), ('the', 'AT'), ('terrace', 'NN'), ('type', 'NN'), (',', ','), ('being', 'BEG'), ('on', 'IN'), ('the', 'AT'), ('ground', 'NN'), ('floor', 'NN'), ('so', 'QL'), ('that', 'CS'), ('entrance', 'NN'), ('is', 'BEZ'), ('direct', 'JJ'), ('.', '.')]\n"
     ]
    }
   ],
   "source": [
    "brown_sents = brown.sents(categories='news')\n",
    "\n",
    "# Train/Initialize a unigram tagger using the tagged brown corpora\n",
    "# Training process: store the most frequent tag for each word\n",
    "brown_tagged_sents = brown.tagged_sents(categories='news')\n",
    "unigram_tagger = nltk.UnigramTagger(brown_tagged_sents)\n",
    "\n",
    "# apply the unigram tagger to tag a sentence\n",
    "print(unigram_tagger.tag(brown_sents[2007]))"
   ]
  },
  {
   "cell_type": "code",
   "execution_count": 41,
   "metadata": {},
   "outputs": [
    {
     "data": {
      "text/plain": [
       "0.9349006503968017"
      ]
     },
     "execution_count": 41,
     "metadata": {},
     "output_type": "execute_result"
    }
   ],
   "source": [
    "# evaluate the pre-trained unigram tagger\n",
    "# same training and testing data, possibility of overfitting\n",
    "unigram_tagger.evaluate(brown_tagged_sents)"
   ]
  },
  {
   "cell_type": "markdown",
   "metadata": {},
   "source": [
    "### Separate Training and Testing Data\n",
    "- problems with same training and testing data:\n",
    "    - the tagger simply memorize the training data and made no attempt to construct a general model\n",
    "    - good performance but useless for new text\n",
    "- train and test split\n",
    "    - 90% training\n",
    "    - 10% testing"
   ]
  },
  {
   "cell_type": "code",
   "execution_count": 42,
   "metadata": {},
   "outputs": [
    {
     "data": {
      "text/plain": [
       "0.8121200039868434"
      ]
     },
     "execution_count": 42,
     "metadata": {},
     "output_type": "execute_result"
    }
   ],
   "source": [
    "train_size = int(len(brown_tagged_sents) * 0.9)\n",
    "train_sents = brown_tagged_sents[:train_size]\n",
    "test_sents = brown_tagged_sents[train_size:]\n",
    "\n",
    "# build the tagger only using training data\n",
    "unigram_tagger = nltk.UnigramTagger(train_sents)\n",
    "\n",
    "# evaluate the tagger on testing data\n",
    "unigram_tagger.evaluate(test_sents)\n",
    "\n",
    "# better reflects the usefulness of this tagger on unseen text"
   ]
  },
  {
   "cell_type": "markdown",
   "metadata": {},
   "source": [
    "## General N-Gram Tagging\n",
    "- A word might have multiple POS tags:\n",
    "    - book the ticket (Verb)\n",
    "    - book of the century (Noun)\n",
    " \n",
    "- A word's POS tag depends on the context it appears\n",
    "\n",
    "<br>\n",
    "\n",
    "- N-gram: contiguous sequence of n tokens\n",
    "    - 1-gram: unigram, the current token itself\n",
    "    - 2-gram: bigram, two tokens\n",
    "    - 3-gram: trigram, three tokens\n",
    "\n",
    "<br>\n",
    "\n",
    "- Unigram tagger\n",
    "    - assign each word with its most likely tag\n",
    "    - a word will have same tag regardless of the context it appears\n",
    "    - only consider the current token, isolation from the context\n",
    "\n",
    "\n",
    "- N-gram tagger\n",
    "    - considers both the current token and the POS tags of the n-1 preceding tokens\n",
    "    - consider contexts that inside a sentence, not cross sentence boundary\n",
    "    - an n-gram tagger picks the tag that is most likely in the given context\n",
    "    - e.g., 3-gram tagger: the tag of two preceding words and the word itself\n",
    "    "
   ]
  },
  {
   "cell_type": "markdown",
   "metadata": {},
   "source": [
    "<img src=\"./ngram_tag.png\" width=\"600\" align=\"left\">"
   ]
  },
  {
   "cell_type": "markdown",
   "metadata": {},
   "source": [
    "Train a **bigram tagger**:\n",
    "    - learn a lookup table to record the frequency of bigrams in the training data\n",
    "    - \"two old men bet on the game\"\n",
    "    - \"book a ticket\"\n",
    "    - \"the book of the century\""
   ]
  },
  {
   "cell_type": "markdown",
   "metadata": {},
   "source": [
    "<img src=\"./Lookup_table_2.png\" width=\"500\" align=\"left\"> "
   ]
  },
  {
   "cell_type": "code",
   "execution_count": 43,
   "metadata": {},
   "outputs": [],
   "source": [
    "# train a bigram tagger using the pre-tagged training sentences from brown corpus\n",
    "bigram_tagger = nltk.BigramTagger(train_sents) "
   ]
  },
  {
   "cell_type": "code",
   "execution_count": 44,
   "metadata": {},
   "outputs": [
    {
     "name": "stdout",
     "output_type": "stream",
     "text": [
      "[('Various', 'JJ'), ('of', 'IN'), ('the', 'AT'), ('apartments', 'NNS'), ('are', 'BER'), ('of', 'IN'), ('the', 'AT'), ('terrace', 'NN'), ('type', 'NN'), (',', ','), ('being', 'BEG'), ('on', 'IN'), ('the', 'AT'), ('ground', 'NN'), ('floor', 'NN'), ('so', 'CS'), ('that', 'CS'), ('entrance', 'NN'), ('is', 'BEZ'), ('direct', 'JJ'), ('.', '.')]\n"
     ]
    }
   ],
   "source": [
    "# performance on a training sentence, the tagger has seen this sentence during training\n",
    "print(bigram_tagger.tag(brown_sents[2007]))"
   ]
  },
  {
   "cell_type": "code",
   "execution_count": 45,
   "metadata": {},
   "outputs": [
    {
     "name": "stdout",
     "output_type": "stream",
     "text": [
      "[('The', 'AT'), ('population', 'NN'), ('of', 'IN'), ('the', 'AT'), ('Congo', 'NP'), ('is', 'BEZ'), ('13.5', None), ('million', None), (',', None), ('divided', None), ('into', None), ('at', None), ('least', None), ('seven', None), ('major', None), ('``', None), ('culture', None), ('clusters', None), (\"''\", None), ('and', None), ('innumerable', None), ('tribes', None), ('speaking', None), ('400', None), ('separate', None), ('dialects', None), ('.', None)]\n"
     ]
    }
   ],
   "source": [
    "# performance on unseen sentence\n",
    "unseen_sent = brown_sents[4203]\n",
    "print(bigram_tagger.tag(unseen_sent))"
   ]
  },
  {
   "cell_type": "code",
   "execution_count": 46,
   "metadata": {},
   "outputs": [
    {
     "data": {
      "text/plain": [
       "0.10206319146815508"
      ]
     },
     "execution_count": 46,
     "metadata": {},
     "output_type": "execute_result"
    }
   ],
   "source": [
    "# evaluate performance on test data (unseen sentences)\n",
    "bigram_tagger.evaluate(test_sents)"
   ]
  },
  {
   "cell_type": "markdown",
   "metadata": {},
   "source": [
    "**Conclusion**:\n",
    "- the bigram tagger has **low accuracy on unseen sentences** (many words are tagged None)\n",
    "- unable to tag unseen words (e.g., 13.5)\n",
    "- unable to tag seen words that appear in unseen bigrams\n",
    "    - have seen the word: million\n",
    "    - never seen a bigram that: the previous word before \"million\" has \"None\" tag\n",
    "    - fails to tag the rest of the sentence\n",
    "    \n",
    "**Sparse data problem**:\n",
    "- larger n, less chance that the tagger has seen the n-gram tags in training data, less accuracy\n",
    "- **trade-off** between accuracy and coverage of the result\n",
    "\n",
    "<br>\n",
    "<br>\n",
    "<br>"
   ]
  },
  {
   "cell_type": "markdown",
   "metadata": {},
   "source": [
    "### Combine several n-gram taggers\n",
    "- to address the **trade-off** between accuracy and coverage: \n",
    "    - use more accurate algorithms when we can (larger n-gram)\n",
    "    - but to fall back on algorithms with wider coverage when necessary (smaller n-gram)\n",
    "\n",
    "<br>\n",
    "\n",
    "- combine the results of a unigram tagger, a bigram tagger, and a default tagger:\n",
    "    - try tagging the token with the bigram tagger\n",
    "    - if the bigram tagger is unable to find a tag for the token, try the unigram tagger\n",
    "    - if the unigram tagger is also unable to find a tag, use a default tagger\n",
    "\n",
    "<br>\n",
    "\n",
    "\n",
    "- specify a backoff-tagger and the backoff-tagger may itself have a backoff tagger\n",
    "    - take advantage of the backoff tagger (expand performance coverage)"
   ]
  },
  {
   "cell_type": "code",
   "execution_count": 47,
   "metadata": {},
   "outputs": [
    {
     "name": "stdout",
     "output_type": "stream",
     "text": [
      "0.1262832652247583\n",
      "0.8361407355726104\n",
      "0.8452108043456593\n"
     ]
    }
   ],
   "source": [
    "t0 = nltk.DefaultTagger('NN')\n",
    "t1 = nltk.UnigramTagger(train_sents, backoff=t0)\n",
    "t2 = nltk.BigramTagger(train_sents, backoff=t1)\n",
    "print(t0.evaluate(test_sents))\n",
    "print(t1.evaluate(test_sents))\n",
    "print(t2.evaluate(test_sents))"
   ]
  },
  {
   "cell_type": "markdown",
   "metadata": {},
   "source": [
    "## Tagging Unknown Words\n",
    "- OOV: out-of-vocabulary\n",
    "- backoff to:\n",
    "    - regular-expression (e.g., ed, ing, s)\n",
    "    - default tagger (most frequent tag)\n",
    "    - not utilizing context\n",
    "  \n",
    "<br>\n",
    "\n",
    "- How to tag unknown words based on the context?\n",
    "    - limit the vocabulary of a tagger to the most frequent n words\n",
    "    - replace every other word with a special symbol \"UNK\"\n",
    "    - the tagger will learn a POS tag for \"UNK\" during training\n",
    "    - e.g. \"to perform\" -> \"to UNK\": (to, TO), (UNK, verb)"
   ]
  },
  {
   "cell_type": "markdown",
   "metadata": {},
   "source": [
    "## Storing pre-trained Taggers\n",
    "- save a trained a tagger for later re-use"
   ]
  },
  {
   "cell_type": "code",
   "execution_count": 48,
   "metadata": {},
   "outputs": [],
   "source": [
    "from pickle import dump\n",
    "output = open('t2.pkl', 'wb')\n",
    "dump(t2, output)\n",
    "output.close()"
   ]
  },
  {
   "cell_type": "markdown",
   "metadata": {},
   "source": [
    "Load the previously saved tagger"
   ]
  },
  {
   "cell_type": "code",
   "execution_count": 49,
   "metadata": {},
   "outputs": [],
   "source": [
    "from pickle import load\n",
    "input = open('t2.pkl', 'rb')\n",
    "tagger = load(input)\n",
    "input.close()"
   ]
  },
  {
   "cell_type": "code",
   "execution_count": 50,
   "metadata": {},
   "outputs": [
    {
     "name": "stdout",
     "output_type": "stream",
     "text": [
      "[('The', 'AT'), (\"board's\", 'NN$'), ('action', 'NN'), ('shows', 'NNS'), ('what', 'WDT'), ('free', 'JJ'), ('enterprise', 'NN'), ('is', 'BEZ'), ('up', 'RP'), ('against', 'IN'), ('in', 'IN'), ('our', 'PP$'), ('complex', 'JJ'), ('maze', 'NN'), ('of', 'IN'), ('regulatory', 'NN'), ('laws', 'NNS'), ('.', '.')]\n"
     ]
    }
   ],
   "source": [
    "# Re-use the pre-trained tagger for new sentences\n",
    "test = \"\"\"The board's action shows what free enterprise is up against in our complex maze of regulatory laws .\"\"\"\n",
    "tokens = test.split()\n",
    "print(tagger.tag(tokens))"
   ]
  },
  {
   "cell_type": "code",
   "execution_count": null,
   "metadata": {},
   "outputs": [],
   "source": []
  }
 ],
 "metadata": {
  "kernelspec": {
   "display_name": "Python 3",
   "language": "python",
   "name": "python3"
  },
  "language_info": {
   "codemirror_mode": {
    "name": "ipython",
    "version": 3
   },
   "file_extension": ".py",
   "mimetype": "text/x-python",
   "name": "python",
   "nbconvert_exporter": "python",
   "pygments_lexer": "ipython3",
   "version": "3.7.0"
  },
  "toc": {
   "base_numbering": 1,
   "nav_menu": {},
   "number_sections": true,
   "sideBar": true,
   "skip_h1_title": false,
   "title_cell": "Table of Contents",
   "title_sidebar": "Contents",
   "toc_cell": false,
   "toc_position": {
    "height": "calc(100% - 180px)",
    "left": "10px",
    "top": "150px",
    "width": "363px"
   },
   "toc_section_display": true,
   "toc_window_display": false
  }
 },
 "nbformat": 4,
 "nbformat_minor": 2
}
